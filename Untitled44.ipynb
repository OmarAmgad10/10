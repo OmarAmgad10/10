{
 "cells": [
  {
   "cell_type": "code",
   "execution_count": 2,
   "id": "c501036f",
   "metadata": {},
   "outputs": [
    {
     "name": "stdout",
     "output_type": "stream",
     "text": [
      "h1 = 0.28168355126469213\n",
      "h2 = 0.5438446361753874\n",
      "Output = 0.39357269367498876\n"
     ]
    }
   ],
   "source": [
    "import numpy as np\n",
    "\n",
    "def tanh(x):\n",
    "    return np.tanh(x)\n",
    "\n",
    "np.random.seed(42) \n",
    "w1 = np.random.uniform(-0.5, 0.5)\n",
    "w2 = np.random.uniform(-0.5, 0.5)\n",
    "w3 = np.random.uniform(-0.5, 0.5)\n",
    "w4 = np.random.uniform(-0.5, 0.5)\n",
    "w5 = np.random.uniform(-0.5, 0.5)\n",
    "w6 = np.random.uniform(-0.5, 0.5)\n",
    "\n",
    "b1 = 0.5\n",
    "b2 = 0.7\n",
    "\n",
    "x1 = 0.6\n",
    "x2 = -0.3\n",
    "\n",
    "\n",
    "h1 = tanh(w1 * x1 + w2 * x2 + b1)\n",
    "h2 = tanh(w3 * x1 + w4 * x2 + b1)\n",
    "\n",
    "\n",
    "output = tanh(w5 * h1 + w6 * h2 + b2)\n",
    "\n",
    "print(f\"h1 = {h1}\")\n",
    "print(f\"h2 = {h2}\")\n",
    "print(f\"Output = {output}\")"
   ]
  },
  {
   "cell_type": "code",
   "execution_count": null,
   "id": "b127f090",
   "metadata": {},
   "outputs": [],
   "source": []
  },
  {
   "cell_type": "code",
   "execution_count": null,
   "id": "f0927658",
   "metadata": {},
   "outputs": [],
   "source": []
  }
 ],
 "metadata": {
  "kernelspec": {
   "display_name": "Python 3 (ipykernel)",
   "language": "python",
   "name": "python3"
  },
  "language_info": {
   "codemirror_mode": {
    "name": "ipython",
    "version": 3
   },
   "file_extension": ".py",
   "mimetype": "text/x-python",
   "name": "python",
   "nbconvert_exporter": "python",
   "pygments_lexer": "ipython3",
   "version": "3.11.5"
  }
 },
 "nbformat": 4,
 "nbformat_minor": 5
}
